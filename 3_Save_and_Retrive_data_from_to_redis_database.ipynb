{
 "cells": [
  {
   "cell_type": "markdown",
   "id": "4c3b608f",
   "metadata": {},
   "source": [
    "### Save and Retrive Data from Redis\n",
    "- https://redis.com/"
   ]
  },
  {
   "cell_type": "code",
   "execution_count": 1,
   "id": "652d146e",
   "metadata": {},
   "outputs": [],
   "source": [
    "import numpy as np\n",
    "import pandas as pd\n",
    "import redis"
   ]
  },
  {
   "cell_type": "code",
   "execution_count": 2,
   "id": "277ea4df",
   "metadata": {},
   "outputs": [],
   "source": [
    "# Connect to Redis Client\n",
    "# redis-18692.c57.us-east-1-4.ec2.cloud.redislabs.com:18692\n",
    "# wCneC8tYJRuw0ovU9Kacbr9kgY4UmQdb\n",
    "hostname = 'redis-14249.c239.us-east-1-2.ec2.cloud.redislabs.com'\n",
    "portnumber = 14249\n",
    "password = '5ASm8yEK2Bu8o4aqqXzkM1otOfhyM57z'\n",
    "\n",
    "r = redis.StrictRedis(host=hostname,\n",
    "                      port=portnumber,\n",
    "                      password=password)\n"
   ]
  },
  {
   "cell_type": "code",
   "execution_count": 3,
   "id": "95de976e",
   "metadata": {},
   "outputs": [
    {
     "data": {
      "text/plain": [
       "True"
      ]
     },
     "execution_count": 3,
     "metadata": {},
     "output_type": "execute_result"
    }
   ],
   "source": [
    "r.ping()"
   ]
  },
  {
   "cell_type": "code",
   "execution_count": 4,
   "id": "c463ce0f",
   "metadata": {},
   "outputs": [],
   "source": [
    "#r.keys()"
   ]
  },
  {
   "cell_type": "markdown",
   "id": "6e429fd3",
   "metadata": {},
   "source": [
    "#### Load the data (numpy zip)"
   ]
  },
  {
   "cell_type": "code",
   "execution_count": 5,
   "id": "5bae9d33",
   "metadata": {},
   "outputs": [
    {
     "data": {
      "text/html": [
       "<div>\n",
       "<style scoped>\n",
       "    .dataframe tbody tr th:only-of-type {\n",
       "        vertical-align: middle;\n",
       "    }\n",
       "\n",
       "    .dataframe tbody tr th {\n",
       "        vertical-align: top;\n",
       "    }\n",
       "\n",
       "    .dataframe thead th {\n",
       "        text-align: right;\n",
       "    }\n",
       "</style>\n",
       "<table border=\"1\" class=\"dataframe\">\n",
       "  <thead>\n",
       "    <tr style=\"text-align: right;\">\n",
       "      <th></th>\n",
       "      <th>Name</th>\n",
       "      <th>Role</th>\n",
       "      <th>Facial_Features</th>\n",
       "    </tr>\n",
       "  </thead>\n",
       "  <tbody>\n",
       "    <tr>\n",
       "      <th>0</th>\n",
       "      <td>Angelina Jolie</td>\n",
       "      <td>student</td>\n",
       "      <td>[0.43222713, 1.074822, -0.12857957, -1.8332443...</td>\n",
       "    </tr>\n",
       "    <tr>\n",
       "      <th>1</th>\n",
       "      <td>Barack_Obama</td>\n",
       "      <td>teacher</td>\n",
       "      <td>[0.948603, -0.558349, 0.09484784, -1.2796344, ...</td>\n",
       "    </tr>\n",
       "    <tr>\n",
       "      <th>2</th>\n",
       "      <td>Chris_Evans</td>\n",
       "      <td>student</td>\n",
       "      <td>[0.72012275, -1.4683539, -0.77757514, -1.46026...</td>\n",
       "    </tr>\n",
       "    <tr>\n",
       "      <th>3</th>\n",
       "      <td>Morgan_Freeman</td>\n",
       "      <td>teacher</td>\n",
       "      <td>[0.4857939, -0.61931694, -0.4072946, 1.0686711...</td>\n",
       "    </tr>\n",
       "    <tr>\n",
       "      <th>4</th>\n",
       "      <td>Scarlett Johansson</td>\n",
       "      <td>student</td>\n",
       "      <td>[0.1913062, -0.48871604, -1.6904205, 0.4424578...</td>\n",
       "    </tr>\n",
       "  </tbody>\n",
       "</table>\n",
       "</div>"
      ],
      "text/plain": [
       "                 Name     Role  \\\n",
       "0      Angelina Jolie  student   \n",
       "1        Barack_Obama  teacher   \n",
       "2         Chris_Evans  student   \n",
       "3      Morgan_Freeman  teacher   \n",
       "4  Scarlett Johansson  student   \n",
       "\n",
       "                                     Facial_Features  \n",
       "0  [0.43222713, 1.074822, -0.12857957, -1.8332443...  \n",
       "1  [0.948603, -0.558349, 0.09484784, -1.2796344, ...  \n",
       "2  [0.72012275, -1.4683539, -0.77757514, -1.46026...  \n",
       "3  [0.4857939, -0.61931694, -0.4072946, 1.0686711...  \n",
       "4  [0.1913062, -0.48871604, -1.6904205, 0.4424578...  "
      ]
     },
     "execution_count": 5,
     "metadata": {},
     "output_type": "execute_result"
    }
   ],
   "source": [
    "np_file = np.load('dataframe_students_teacher.npz',allow_pickle=True)\n",
    "x_values = np_file['arr_0']\n",
    "col_names = np_file['arr_1']\n",
    "\n",
    "df = pd.DataFrame(x_values,columns=col_names)\n",
    "df"
   ]
  },
  {
   "cell_type": "code",
   "execution_count": 6,
   "id": "6cc70e26",
   "metadata": {},
   "outputs": [
    {
     "data": {
      "text/html": [
       "<div>\n",
       "<style scoped>\n",
       "    .dataframe tbody tr th:only-of-type {\n",
       "        vertical-align: middle;\n",
       "    }\n",
       "\n",
       "    .dataframe tbody tr th {\n",
       "        vertical-align: top;\n",
       "    }\n",
       "\n",
       "    .dataframe thead th {\n",
       "        text-align: right;\n",
       "    }\n",
       "</style>\n",
       "<table border=\"1\" class=\"dataframe\">\n",
       "  <thead>\n",
       "    <tr style=\"text-align: right;\">\n",
       "      <th></th>\n",
       "      <th>Name</th>\n",
       "      <th>Role</th>\n",
       "      <th>Facial_Features</th>\n",
       "      <th>name_role</th>\n",
       "    </tr>\n",
       "  </thead>\n",
       "  <tbody>\n",
       "    <tr>\n",
       "      <th>0</th>\n",
       "      <td>Angelina Jolie</td>\n",
       "      <td>student</td>\n",
       "      <td>[0.43222713, 1.074822, -0.12857957, -1.8332443...</td>\n",
       "      <td>Angelina Jolie@student</td>\n",
       "    </tr>\n",
       "    <tr>\n",
       "      <th>1</th>\n",
       "      <td>Barack_Obama</td>\n",
       "      <td>teacher</td>\n",
       "      <td>[0.948603, -0.558349, 0.09484784, -1.2796344, ...</td>\n",
       "      <td>Barack_Obama@teacher</td>\n",
       "    </tr>\n",
       "    <tr>\n",
       "      <th>2</th>\n",
       "      <td>Chris_Evans</td>\n",
       "      <td>student</td>\n",
       "      <td>[0.72012275, -1.4683539, -0.77757514, -1.46026...</td>\n",
       "      <td>Chris_Evans@student</td>\n",
       "    </tr>\n",
       "    <tr>\n",
       "      <th>3</th>\n",
       "      <td>Morgan_Freeman</td>\n",
       "      <td>teacher</td>\n",
       "      <td>[0.4857939, -0.61931694, -0.4072946, 1.0686711...</td>\n",
       "      <td>Morgan_Freeman@teacher</td>\n",
       "    </tr>\n",
       "    <tr>\n",
       "      <th>4</th>\n",
       "      <td>Scarlett Johansson</td>\n",
       "      <td>student</td>\n",
       "      <td>[0.1913062, -0.48871604, -1.6904205, 0.4424578...</td>\n",
       "      <td>Scarlett Johansson@student</td>\n",
       "    </tr>\n",
       "  </tbody>\n",
       "</table>\n",
       "</div>"
      ],
      "text/plain": [
       "                 Name     Role  \\\n",
       "0      Angelina Jolie  student   \n",
       "1        Barack_Obama  teacher   \n",
       "2         Chris_Evans  student   \n",
       "3      Morgan_Freeman  teacher   \n",
       "4  Scarlett Johansson  student   \n",
       "\n",
       "                                     Facial_Features  \\\n",
       "0  [0.43222713, 1.074822, -0.12857957, -1.8332443...   \n",
       "1  [0.948603, -0.558349, 0.09484784, -1.2796344, ...   \n",
       "2  [0.72012275, -1.4683539, -0.77757514, -1.46026...   \n",
       "3  [0.4857939, -0.61931694, -0.4072946, 1.0686711...   \n",
       "4  [0.1913062, -0.48871604, -1.6904205, 0.4424578...   \n",
       "\n",
       "                    name_role  \n",
       "0      Angelina Jolie@student  \n",
       "1        Barack_Obama@teacher  \n",
       "2         Chris_Evans@student  \n",
       "3      Morgan_Freeman@teacher  \n",
       "4  Scarlett Johansson@student  "
      ]
     },
     "execution_count": 6,
     "metadata": {},
     "output_type": "execute_result"
    }
   ],
   "source": [
    "df['name_role'] = df['Name']+'@'+df['Role']\n",
    "df"
   ]
  },
  {
   "cell_type": "code",
   "execution_count": 7,
   "id": "94abf601",
   "metadata": {},
   "outputs": [
    {
     "data": {
      "text/plain": [
       "5"
      ]
     },
     "execution_count": 7,
     "metadata": {},
     "output_type": "execute_result"
    }
   ],
   "source": [
    "records = df[['name_role','Facial_Features']].to_dict(orient='records')\n",
    "len(records)"
   ]
  },
  {
   "cell_type": "markdown",
   "id": "6e0b2a90",
   "metadata": {},
   "source": [
    "## Save data in Redis\n",
    "- redis hashes\n",
    "- keyname = 'academy:register'"
   ]
  },
  {
   "cell_type": "code",
   "execution_count": 8,
   "id": "c51a449a",
   "metadata": {},
   "outputs": [],
   "source": [
    "for record in records:\n",
    "    name_role = record['name_role']\n",
    "    vector = record['Facial_Features']\n",
    "    \n",
    "    # convert numpy array into bytes\n",
    "    vector_bytes = vector.tobytes()\n",
    "    \n",
    "    # save data into redis cloud\n",
    "    r.hset(name='academy:register',key=name_role,value=vector_bytes)"
   ]
  },
  {
   "cell_type": "code",
   "execution_count": 9,
   "id": "7259b365",
   "metadata": {},
   "outputs": [
    {
     "data": {
      "text/plain": [
       "dtype('float32')"
      ]
     },
     "execution_count": 9,
     "metadata": {},
     "output_type": "execute_result"
    }
   ],
   "source": [
    "vector.dtype"
   ]
  },
  {
   "cell_type": "markdown",
   "id": "9a958caa",
   "metadata": {},
   "source": [
    "### Retrive Records from Redis"
   ]
  },
  {
   "cell_type": "code",
   "execution_count": 10,
   "id": "9bbfbbe9",
   "metadata": {},
   "outputs": [
    {
     "data": {
      "text/plain": [
       "b'Abhijeeth@Student'                     b'\\xb7\\x8c\\xe6\\xbc\\x10XV\\xbb\\xf6\\xf5\"\\xbd.\\x04...\n",
       "b'kohli@Student'                         b'\\xc8\\x07\\x8e\\xbfl\\x88\\xbe>2E\\xf9=\\x94\\xa9.\\x...\n",
       "b'abhigna@Student'                       b'\\x0f/\\x00\\xc0\\x14\\xae\\x02\\xbf\\x1bm7?\\x8c\\x93...\n",
       "b'Lionel Messi@Student'                  b'w\\r-\\xc0$\\x82\\xb3\\xbfuz\\xca>A\\x85.?)\\xa5\\x9e...\n",
       "b'Morgan_Freeman@teacher'                b'\\xfa\\xb9\\xf8>\\x8e\\x8b\\x1e\\xbf\\xeb\\x88\\xd0\\xb...\n",
       "b'Barack_Obama@teacher'                  b'\\xa5\\xd7r?\\xf6\\xef\\x0e\\xbf\\x96?\\xc2=\\x0f\\xcb...\n",
       "b'Nihitha Vadlamuri@Student'             b'w\\x90\\xcf>f\\xf3n\\xbf\\xf3\\xc5\\x1b? \\xe1r\\xbf6...\n",
       "b'Scarlett Johansson@student'            b'\\xc6\\xe5C>\\xfd8\\xfa\\xbe\\xb3_\\xd8\\xbf\\xd6\\x89...\n",
       "b'ronaldo@Student_21WU0102047'           b'L\\x8a\\xdc?Z\\xda1\\xc0\\xbc\\x1e\\x12><\\xb7\\xde\\x...\n",
       "b'Chris_Evans@student'                   b'\\xf7Y8?\\x05\\xf3\\xbb\\xbf*\\x0fG\\xbf\\x13\\xea\\xb...\n",
       "b'Angelina Jolie@student'                b'\\xe0L\\xdd>\\xc4\\x93\\x89?]\\xaa\\x03\\xbe\\xc0\\xa7...\n",
       "b'Hyunjin@Student'                       b'\\xfc\\xfe%\\xbf\\xd2\\xbc\\t\\xbe\\xa6\\x8f??\\xc0*\\x...\n",
       "b'Abhigna Ragala@Student_21WU0102051'    b'M\\xac\\xf3\\xbf\\xe5\\xa1(\\xbcs\\xb9\\xc0?\\xfc@.\\x...\n",
       "dtype: object"
      ]
     },
     "execution_count": 10,
     "metadata": {},
     "output_type": "execute_result"
    }
   ],
   "source": [
    "retrive_dict = r.hgetall(name='academy:register')\n",
    "retrive_series = pd.Series(retrive_dict)\n",
    "retrive_series"
   ]
  },
  {
   "cell_type": "code",
   "execution_count": 11,
   "id": "4cb3ff01",
   "metadata": {},
   "outputs": [],
   "source": [
    "#np.frombuffer(retrive_series[b'Morgan Freeman@Teacher'],dtype=np.float32).shape\n",
    "retrive_series = retrive_series.apply(lambda x: np.frombuffer(x,dtype=np.float32))\n",
    "index = retrive_series.index\n",
    "index = list(map(lambda x: x.decode(), index))"
   ]
  },
  {
   "cell_type": "code",
   "execution_count": 12,
   "id": "7ff52f5c",
   "metadata": {},
   "outputs": [],
   "source": [
    "retrive_series.index = index"
   ]
  },
  {
   "cell_type": "code",
   "execution_count": 13,
   "id": "846603fc",
   "metadata": {},
   "outputs": [
    {
     "data": {
      "text/html": [
       "<div>\n",
       "<style scoped>\n",
       "    .dataframe tbody tr th:only-of-type {\n",
       "        vertical-align: middle;\n",
       "    }\n",
       "\n",
       "    .dataframe tbody tr th {\n",
       "        vertical-align: top;\n",
       "    }\n",
       "\n",
       "    .dataframe thead th {\n",
       "        text-align: right;\n",
       "    }\n",
       "</style>\n",
       "<table border=\"1\" class=\"dataframe\">\n",
       "  <thead>\n",
       "    <tr style=\"text-align: right;\">\n",
       "      <th></th>\n",
       "      <th>name_role</th>\n",
       "      <th>facial_features</th>\n",
       "    </tr>\n",
       "  </thead>\n",
       "  <tbody>\n",
       "    <tr>\n",
       "      <th>0</th>\n",
       "      <td>Abhijeeth@Student</td>\n",
       "      <td>[-0.02814327, -0.0032706298, -0.039785348, -0....</td>\n",
       "    </tr>\n",
       "    <tr>\n",
       "      <th>1</th>\n",
       "      <td>kohli@Student</td>\n",
       "      <td>[-1.1096125, 0.37213457, 0.12171401, -0.682275...</td>\n",
       "    </tr>\n",
       "    <tr>\n",
       "      <th>2</th>\n",
       "      <td>abhigna@Student</td>\n",
       "      <td>[-2.0028722, -0.5104687, 0.71650857, -0.830376...</td>\n",
       "    </tr>\n",
       "    <tr>\n",
       "      <th>3</th>\n",
       "      <td>Lionel Messi@Student</td>\n",
       "      <td>[-2.7039468, -1.4024091, 0.39546552, 0.6817208...</td>\n",
       "    </tr>\n",
       "    <tr>\n",
       "      <th>4</th>\n",
       "      <td>Morgan_Freeman@teacher</td>\n",
       "      <td>[0.4857939, -0.61931694, -0.4072946, 1.0686711...</td>\n",
       "    </tr>\n",
       "    <tr>\n",
       "      <th>5</th>\n",
       "      <td>Barack_Obama@teacher</td>\n",
       "      <td>[0.948603, -0.558349, 0.09484784, -1.2796344, ...</td>\n",
       "    </tr>\n",
       "    <tr>\n",
       "      <th>6</th>\n",
       "      <td>Nihitha Vadlamuri@Student</td>\n",
       "      <td>[0.40539905, -0.93340147, 0.6084892, -0.948747...</td>\n",
       "    </tr>\n",
       "    <tr>\n",
       "      <th>7</th>\n",
       "      <td>Scarlett Johansson@student</td>\n",
       "      <td>[0.1913062, -0.48871604, -1.6904205, 0.4424578...</td>\n",
       "    </tr>\n",
       "    <tr>\n",
       "      <th>8</th>\n",
       "      <td>ronaldo@Student_21WU0102047</td>\n",
       "      <td>[1.7229705, -2.7789521, 0.14269537, -1.7399669...</td>\n",
       "    </tr>\n",
       "    <tr>\n",
       "      <th>9</th>\n",
       "      <td>Chris_Evans@student</td>\n",
       "      <td>[0.72012275, -1.4683539, -0.77757514, -1.46026...</td>\n",
       "    </tr>\n",
       "    <tr>\n",
       "      <th>10</th>\n",
       "      <td>Angelina Jolie@student</td>\n",
       "      <td>[0.43222713, 1.074822, -0.12857957, -1.8332443...</td>\n",
       "    </tr>\n",
       "    <tr>\n",
       "      <th>11</th>\n",
       "      <td>Hyunjin@Student</td>\n",
       "      <td>[-0.648422, -0.13450935, 0.74828565, -1.009117...</td>\n",
       "    </tr>\n",
       "    <tr>\n",
       "      <th>12</th>\n",
       "      <td>Abhigna Ragala@Student_21WU0102051</td>\n",
       "      <td>[-1.9036957, -0.010292505, 1.5056595, -0.68067...</td>\n",
       "    </tr>\n",
       "  </tbody>\n",
       "</table>\n",
       "</div>"
      ],
      "text/plain": [
       "                             name_role  \\\n",
       "0                    Abhijeeth@Student   \n",
       "1                        kohli@Student   \n",
       "2                      abhigna@Student   \n",
       "3                 Lionel Messi@Student   \n",
       "4               Morgan_Freeman@teacher   \n",
       "5                 Barack_Obama@teacher   \n",
       "6            Nihitha Vadlamuri@Student   \n",
       "7           Scarlett Johansson@student   \n",
       "8          ronaldo@Student_21WU0102047   \n",
       "9                  Chris_Evans@student   \n",
       "10              Angelina Jolie@student   \n",
       "11                     Hyunjin@Student   \n",
       "12  Abhigna Ragala@Student_21WU0102051   \n",
       "\n",
       "                                      facial_features  \n",
       "0   [-0.02814327, -0.0032706298, -0.039785348, -0....  \n",
       "1   [-1.1096125, 0.37213457, 0.12171401, -0.682275...  \n",
       "2   [-2.0028722, -0.5104687, 0.71650857, -0.830376...  \n",
       "3   [-2.7039468, -1.4024091, 0.39546552, 0.6817208...  \n",
       "4   [0.4857939, -0.61931694, -0.4072946, 1.0686711...  \n",
       "5   [0.948603, -0.558349, 0.09484784, -1.2796344, ...  \n",
       "6   [0.40539905, -0.93340147, 0.6084892, -0.948747...  \n",
       "7   [0.1913062, -0.48871604, -1.6904205, 0.4424578...  \n",
       "8   [1.7229705, -2.7789521, 0.14269537, -1.7399669...  \n",
       "9   [0.72012275, -1.4683539, -0.77757514, -1.46026...  \n",
       "10  [0.43222713, 1.074822, -0.12857957, -1.8332443...  \n",
       "11  [-0.648422, -0.13450935, 0.74828565, -1.009117...  \n",
       "12  [-1.9036957, -0.010292505, 1.5056595, -0.68067...  "
      ]
     },
     "execution_count": 13,
     "metadata": {},
     "output_type": "execute_result"
    }
   ],
   "source": [
    "retrive_df = retrive_series.to_frame().reset_index()\n",
    "retrive_df.columns = ['name_role','facial_features']\n",
    "retrive_df"
   ]
  },
  {
   "cell_type": "code",
   "execution_count": 14,
   "id": "11648802",
   "metadata": {},
   "outputs": [
    {
     "name": "stdout",
     "output_type": "stream",
     "text": [
      "Index(['name_role', 'facial_features'], dtype='object')\n"
     ]
    }
   ],
   "source": [
    "print(retrive_df.columns)\n",
    "\n"
   ]
  },
  {
   "cell_type": "code",
   "execution_count": 15,
   "id": "8321c25b",
   "metadata": {},
   "outputs": [],
   "source": [
    "name_to_delete = 'Abhigna Ragala@Student_21WU0102051'\n",
    "retrive_df = retrive_df[~retrive_df['name_role'].str.contains(name_to_delete)].reset_index(drop=True)\n"
   ]
  },
  {
   "cell_type": "code",
   "execution_count": 16,
   "id": "013a16c9",
   "metadata": {},
   "outputs": [],
   "source": [
    "name_to_delete = 'ronaldo@Student_21WU0102047'\n",
    "retrive_df = retrive_df[~retrive_df['name_role'].str.contains(name_to_delete)].reset_index(drop=True)"
   ]
  },
  {
   "cell_type": "code",
   "execution_count": 17,
   "id": "821e0baa",
   "metadata": {},
   "outputs": [
    {
     "data": {
      "text/html": [
       "<div>\n",
       "<style scoped>\n",
       "    .dataframe tbody tr th:only-of-type {\n",
       "        vertical-align: middle;\n",
       "    }\n",
       "\n",
       "    .dataframe tbody tr th {\n",
       "        vertical-align: top;\n",
       "    }\n",
       "\n",
       "    .dataframe thead th {\n",
       "        text-align: right;\n",
       "    }\n",
       "</style>\n",
       "<table border=\"1\" class=\"dataframe\">\n",
       "  <thead>\n",
       "    <tr style=\"text-align: right;\">\n",
       "      <th></th>\n",
       "      <th>name_role</th>\n",
       "      <th>facial_features</th>\n",
       "    </tr>\n",
       "  </thead>\n",
       "  <tbody>\n",
       "    <tr>\n",
       "      <th>0</th>\n",
       "      <td>Abhijeeth@Student</td>\n",
       "      <td>[-0.02814327, -0.0032706298, -0.039785348, -0....</td>\n",
       "    </tr>\n",
       "    <tr>\n",
       "      <th>1</th>\n",
       "      <td>kohli@Student</td>\n",
       "      <td>[-1.1096125, 0.37213457, 0.12171401, -0.682275...</td>\n",
       "    </tr>\n",
       "    <tr>\n",
       "      <th>2</th>\n",
       "      <td>abhigna@Student</td>\n",
       "      <td>[-2.0028722, -0.5104687, 0.71650857, -0.830376...</td>\n",
       "    </tr>\n",
       "    <tr>\n",
       "      <th>3</th>\n",
       "      <td>Lionel Messi@Student</td>\n",
       "      <td>[-2.7039468, -1.4024091, 0.39546552, 0.6817208...</td>\n",
       "    </tr>\n",
       "    <tr>\n",
       "      <th>4</th>\n",
       "      <td>Morgan_Freeman@teacher</td>\n",
       "      <td>[0.4857939, -0.61931694, -0.4072946, 1.0686711...</td>\n",
       "    </tr>\n",
       "    <tr>\n",
       "      <th>5</th>\n",
       "      <td>Barack_Obama@teacher</td>\n",
       "      <td>[0.948603, -0.558349, 0.09484784, -1.2796344, ...</td>\n",
       "    </tr>\n",
       "    <tr>\n",
       "      <th>6</th>\n",
       "      <td>Nihitha Vadlamuri@Student</td>\n",
       "      <td>[0.40539905, -0.93340147, 0.6084892, -0.948747...</td>\n",
       "    </tr>\n",
       "    <tr>\n",
       "      <th>7</th>\n",
       "      <td>Scarlett Johansson@student</td>\n",
       "      <td>[0.1913062, -0.48871604, -1.6904205, 0.4424578...</td>\n",
       "    </tr>\n",
       "    <tr>\n",
       "      <th>8</th>\n",
       "      <td>Chris_Evans@student</td>\n",
       "      <td>[0.72012275, -1.4683539, -0.77757514, -1.46026...</td>\n",
       "    </tr>\n",
       "    <tr>\n",
       "      <th>9</th>\n",
       "      <td>Angelina Jolie@student</td>\n",
       "      <td>[0.43222713, 1.074822, -0.12857957, -1.8332443...</td>\n",
       "    </tr>\n",
       "    <tr>\n",
       "      <th>10</th>\n",
       "      <td>Hyunjin@Student</td>\n",
       "      <td>[-0.648422, -0.13450935, 0.74828565, -1.009117...</td>\n",
       "    </tr>\n",
       "  </tbody>\n",
       "</table>\n",
       "</div>"
      ],
      "text/plain": [
       "                     name_role  \\\n",
       "0            Abhijeeth@Student   \n",
       "1                kohli@Student   \n",
       "2              abhigna@Student   \n",
       "3         Lionel Messi@Student   \n",
       "4       Morgan_Freeman@teacher   \n",
       "5         Barack_Obama@teacher   \n",
       "6    Nihitha Vadlamuri@Student   \n",
       "7   Scarlett Johansson@student   \n",
       "8          Chris_Evans@student   \n",
       "9       Angelina Jolie@student   \n",
       "10             Hyunjin@Student   \n",
       "\n",
       "                                      facial_features  \n",
       "0   [-0.02814327, -0.0032706298, -0.039785348, -0....  \n",
       "1   [-1.1096125, 0.37213457, 0.12171401, -0.682275...  \n",
       "2   [-2.0028722, -0.5104687, 0.71650857, -0.830376...  \n",
       "3   [-2.7039468, -1.4024091, 0.39546552, 0.6817208...  \n",
       "4   [0.4857939, -0.61931694, -0.4072946, 1.0686711...  \n",
       "5   [0.948603, -0.558349, 0.09484784, -1.2796344, ...  \n",
       "6   [0.40539905, -0.93340147, 0.6084892, -0.948747...  \n",
       "7   [0.1913062, -0.48871604, -1.6904205, 0.4424578...  \n",
       "8   [0.72012275, -1.4683539, -0.77757514, -1.46026...  \n",
       "9   [0.43222713, 1.074822, -0.12857957, -1.8332443...  \n",
       "10  [-0.648422, -0.13450935, 0.74828565, -1.009117...  "
      ]
     },
     "execution_count": 17,
     "metadata": {},
     "output_type": "execute_result"
    }
   ],
   "source": [
    "retrive_df"
   ]
  },
  {
   "cell_type": "code",
   "execution_count": 18,
   "id": "1547956d",
   "metadata": {},
   "outputs": [
    {
     "data": {
      "text/html": [
       "<div>\n",
       "<style scoped>\n",
       "    .dataframe tbody tr th:only-of-type {\n",
       "        vertical-align: middle;\n",
       "    }\n",
       "\n",
       "    .dataframe tbody tr th {\n",
       "        vertical-align: top;\n",
       "    }\n",
       "\n",
       "    .dataframe thead th {\n",
       "        text-align: right;\n",
       "    }\n",
       "</style>\n",
       "<table border=\"1\" class=\"dataframe\">\n",
       "  <thead>\n",
       "    <tr style=\"text-align: right;\">\n",
       "      <th></th>\n",
       "      <th>name_role</th>\n",
       "      <th>facial_features</th>\n",
       "    </tr>\n",
       "  </thead>\n",
       "  <tbody>\n",
       "    <tr>\n",
       "      <th>0</th>\n",
       "      <td>Abhijeeth@Student</td>\n",
       "      <td>[-0.02814327, -0.0032706298, -0.039785348, -0....</td>\n",
       "    </tr>\n",
       "    <tr>\n",
       "      <th>1</th>\n",
       "      <td>kohli@Student</td>\n",
       "      <td>[-1.1096125, 0.37213457, 0.12171401, -0.682275...</td>\n",
       "    </tr>\n",
       "    <tr>\n",
       "      <th>2</th>\n",
       "      <td>abhigna@Student</td>\n",
       "      <td>[-2.0028722, -0.5104687, 0.71650857, -0.830376...</td>\n",
       "    </tr>\n",
       "    <tr>\n",
       "      <th>3</th>\n",
       "      <td>Lionel Messi@Student</td>\n",
       "      <td>[-2.7039468, -1.4024091, 0.39546552, 0.6817208...</td>\n",
       "    </tr>\n",
       "    <tr>\n",
       "      <th>4</th>\n",
       "      <td>Morgan_Freeman@teacher</td>\n",
       "      <td>[0.4857939, -0.61931694, -0.4072946, 1.0686711...</td>\n",
       "    </tr>\n",
       "    <tr>\n",
       "      <th>5</th>\n",
       "      <td>Barack_Obama@teacher</td>\n",
       "      <td>[0.948603, -0.558349, 0.09484784, -1.2796344, ...</td>\n",
       "    </tr>\n",
       "    <tr>\n",
       "      <th>6</th>\n",
       "      <td>Nihitha Vadlamuri@Student</td>\n",
       "      <td>[0.40539905, -0.93340147, 0.6084892, -0.948747...</td>\n",
       "    </tr>\n",
       "    <tr>\n",
       "      <th>7</th>\n",
       "      <td>Scarlett Johansson@student</td>\n",
       "      <td>[0.1913062, -0.48871604, -1.6904205, 0.4424578...</td>\n",
       "    </tr>\n",
       "    <tr>\n",
       "      <th>8</th>\n",
       "      <td>Chris_Evans@student</td>\n",
       "      <td>[0.72012275, -1.4683539, -0.77757514, -1.46026...</td>\n",
       "    </tr>\n",
       "    <tr>\n",
       "      <th>9</th>\n",
       "      <td>Angelina Jolie@student</td>\n",
       "      <td>[0.43222713, 1.074822, -0.12857957, -1.8332443...</td>\n",
       "    </tr>\n",
       "    <tr>\n",
       "      <th>10</th>\n",
       "      <td>Hyunjin@Student</td>\n",
       "      <td>[-0.648422, -0.13450935, 0.74828565, -1.009117...</td>\n",
       "    </tr>\n",
       "  </tbody>\n",
       "</table>\n",
       "</div>"
      ],
      "text/plain": [
       "                     name_role  \\\n",
       "0            Abhijeeth@Student   \n",
       "1                kohli@Student   \n",
       "2              abhigna@Student   \n",
       "3         Lionel Messi@Student   \n",
       "4       Morgan_Freeman@teacher   \n",
       "5         Barack_Obama@teacher   \n",
       "6    Nihitha Vadlamuri@Student   \n",
       "7   Scarlett Johansson@student   \n",
       "8          Chris_Evans@student   \n",
       "9       Angelina Jolie@student   \n",
       "10             Hyunjin@Student   \n",
       "\n",
       "                                      facial_features  \n",
       "0   [-0.02814327, -0.0032706298, -0.039785348, -0....  \n",
       "1   [-1.1096125, 0.37213457, 0.12171401, -0.682275...  \n",
       "2   [-2.0028722, -0.5104687, 0.71650857, -0.830376...  \n",
       "3   [-2.7039468, -1.4024091, 0.39546552, 0.6817208...  \n",
       "4   [0.4857939, -0.61931694, -0.4072946, 1.0686711...  \n",
       "5   [0.948603, -0.558349, 0.09484784, -1.2796344, ...  \n",
       "6   [0.40539905, -0.93340147, 0.6084892, -0.948747...  \n",
       "7   [0.1913062, -0.48871604, -1.6904205, 0.4424578...  \n",
       "8   [0.72012275, -1.4683539, -0.77757514, -1.46026...  \n",
       "9   [0.43222713, 1.074822, -0.12857957, -1.8332443...  \n",
       "10  [-0.648422, -0.13450935, 0.74828565, -1.009117...  "
      ]
     },
     "execution_count": 18,
     "metadata": {},
     "output_type": "execute_result"
    }
   ],
   "source": [
    "retrive_df\n"
   ]
  },
  {
   "cell_type": "markdown",
   "id": "461d37ce",
   "metadata": {},
   "source": [
    "### Registration Form"
   ]
  },
  {
   "cell_type": "code",
   "execution_count": 19,
   "id": "0e41c1f8",
   "metadata": {},
   "outputs": [],
   "source": [
    "import cv2\n",
    "\n",
    "from insightface.app import FaceAnalysis"
   ]
  },
  {
   "cell_type": "code",
   "execution_count": 20,
   "id": "d001aaf5",
   "metadata": {},
   "outputs": [
    {
     "name": "stdout",
     "output_type": "stream",
     "text": [
      "Applied providers: ['CPUExecutionProvider'], with options: {'CPUExecutionProvider': {}}\n",
      "find model: insightface_model/models/buffalo_sc/det_500m.onnx detection [1, 3, '?', '?'] 127.5 128.0\n",
      "Applied providers: ['CPUExecutionProvider'], with options: {'CPUExecutionProvider': {}}\n",
      "find model: insightface_model/models/buffalo_sc/w600k_mbf.onnx recognition ['None', 3, 112, 112] 127.5 127.5\n",
      "set det-size: (640, 640)\n"
     ]
    }
   ],
   "source": [
    "# configure face analysis\n",
    "faceapp = FaceAnalysis(name='buffalo_sc',\n",
    "                       root='insightface_model',\n",
    "                       providers=['CPUExecutionProvider'])\n",
    "\n",
    "faceapp.prepare(ctx_id=0, det_size=(640,640), det_thresh=0.5)\n",
    "# warning: don't set det_thresh < 0.3"
   ]
  },
  {
   "cell_type": "markdown",
   "id": "9d4d1ba8",
   "metadata": {},
   "source": [
    "##### Step-1: Collect Person and Role"
   ]
  },
  {
   "cell_type": "code",
   "execution_count": null,
   "id": "26c2565a",
   "metadata": {},
   "outputs": [],
   "source": [
    "person_name = input('Enter your name: ')\n",
    "\n",
    "trials = 3\n",
    "for i in range(trials):\n",
    "    role = input(\"\"\"\n",
    "    Please choose\n",
    "    1. Student\n",
    "    2. Teacher\n",
    "\n",
    "    Enter number either 1 or 2\n",
    "    \"\"\")\n",
    "    \n",
    "    if role in ('1', '2'):\n",
    "        if role == '1':\n",
    "            role = 'Student'\n",
    "        else:\n",
    "            role = 'Teacher'\n",
    "        \n",
    "        break\n",
    "    else:\n",
    "        print('Invalid entry. Try again.')\n",
    "        if i == 2:\n",
    "            print('Exceeds maximum trials')\n",
    "            exit()\n",
    "\n",
    "key = person_name + '@' + role\n",
    "print('Your name = ', person_name)\n",
    "print('Your role =', role)\n",
    "\n",
    "print('Key =', key)\n"
   ]
  },
  {
   "cell_type": "markdown",
   "id": "fc205991",
   "metadata": {},
   "source": [
    "##### Step-2: Collect Samples"
   ]
  },
  {
   "cell_type": "code",
   "execution_count": null,
   "id": "a20da5fa",
   "metadata": {},
   "outputs": [],
   "source": [
    "cap = cv2.VideoCapture(0) # 0 default camera, 1 external camera\n",
    "face_embeddings = []\n",
    "sample = 0\n",
    "while True:\n",
    "    ret, frame = cap.read()\n",
    "    if ret == False:\n",
    "        print('Unable to read camera')\n",
    "        break\n",
    "    \n",
    "    # get results from insightface model\n",
    "    results = faceapp.get(frame,max_num=1)\n",
    "    for res in results:\n",
    "        sample += 1\n",
    "        x1, y1, x2, y2 = res['bbox'].astype(int)\n",
    "        cv2.rectangle(frame, (x1,y1),(x2,y2),(0,255,0),1)\n",
    "        \n",
    "        # facial features\n",
    "        embeddings = res['embedding']\n",
    "        face_embeddings.append(embeddings)\n",
    "        \n",
    "    if sample >= 200: \n",
    "        break\n",
    "    \n",
    "    cv2.imshow('frame',frame)\n",
    "    if cv2.waitKey(1) == ord('q'): # this is trigger only when I press letter q (lowercase q) in my keyboard\n",
    "        break\n",
    "        \n",
    "cap.release()\n",
    "cv2.destroyAllWindows()\n",
    "cv2.waitKey(1)\n"
   ]
  },
  {
   "cell_type": "code",
   "execution_count": null,
   "id": "a18b8299",
   "metadata": {},
   "outputs": [],
   "source": [
    "len(face_embeddings)"
   ]
  },
  {
   "cell_type": "markdown",
   "id": "dab1e76d",
   "metadata": {},
   "source": [
    "##### Step-3: Optimize Data & Save in Redis Database"
   ]
  },
  {
   "cell_type": "code",
   "execution_count": null,
   "id": "95e9c35b",
   "metadata": {},
   "outputs": [],
   "source": [
    "x_mean = np.asarray(face_embeddings).mean(axis=0)\n",
    "x_mean.shape"
   ]
  },
  {
   "cell_type": "code",
   "execution_count": null,
   "id": "06d36b5c",
   "metadata": {},
   "outputs": [],
   "source": [
    "# convert into bytes\n",
    "x_mean_bytes = x_mean.tobytes()"
   ]
  },
  {
   "cell_type": "code",
   "execution_count": null,
   "id": "39ee919b",
   "metadata": {},
   "outputs": [],
   "source": [
    "# save key and facial bytes into redis database\n",
    "r.hset(name='academy:register',key=key,value=x_mean_bytes)"
   ]
  },
  {
   "cell_type": "code",
   "execution_count": null,
   "id": "25b6a7ce",
   "metadata": {},
   "outputs": [],
   "source": []
  },
  {
   "cell_type": "code",
   "execution_count": null,
   "id": "cd6e9874",
   "metadata": {},
   "outputs": [],
   "source": []
  }
 ],
 "metadata": {
  "kernelspec": {
   "display_name": "Python 3 (ipykernel)",
   "language": "python",
   "name": "python3"
  },
  "language_info": {
   "codemirror_mode": {
    "name": "ipython",
    "version": 3
   },
   "file_extension": ".py",
   "mimetype": "text/x-python",
   "name": "python",
   "nbconvert_exporter": "python",
   "pygments_lexer": "ipython3",
   "version": "3.11.5"
  }
 },
 "nbformat": 4,
 "nbformat_minor": 5
}
