{
 "cells": [
  {
   "cell_type": "markdown",
   "id": "e0984e5b",
   "metadata": {},
   "source": [
    "## Predictions\n",
    "\n"
   ]
  },
  {
   "cell_type": "code",
   "execution_count": 1,
   "id": "588d88c4",
   "metadata": {},
   "outputs": [
    {
     "name": "stdout",
     "output_type": "stream",
     "text": [
      "Applied providers: ['CPUExecutionProvider'], with options: {'CPUExecutionProvider': {}}\n",
      "find model: insightface_model/models/buffalo_sc/det_500m.onnx detection [1, 3, '?', '?'] 127.5 128.0\n",
      "Applied providers: ['CPUExecutionProvider'], with options: {'CPUExecutionProvider': {}}\n",
      "find model: insightface_model/models/buffalo_sc/w600k_mbf.onnx recognition ['None', 3, 112, 112] 127.5 127.5\n",
      "set det-size: (640, 640)\n"
     ]
    }
   ],
   "source": [
    "import face_rec"
   ]
  },
  {
   "cell_type": "code",
   "execution_count": 2,
   "id": "00a47b3f",
   "metadata": {},
   "outputs": [
    {
     "data": {
      "text/plain": [
       "True"
      ]
     },
     "execution_count": 2,
     "metadata": {},
     "output_type": "execute_result"
    }
   ],
   "source": [
    "face_rec.r.ping()"
   ]
  },
  {
   "cell_type": "code",
   "execution_count": 3,
   "id": "ea8558e8",
   "metadata": {},
   "outputs": [],
   "source": [
    "import pandas as pd\n",
    "import numpy as np\n",
    "import cv2\n",
    "import redis"
   ]
  },
  {
   "cell_type": "markdown",
   "id": "d25d421e",
   "metadata": {},
   "source": [
    "#### Step-1: Extract Data from database"
   ]
  },
  {
   "cell_type": "code",
   "execution_count": 4,
   "id": "d234b10c",
   "metadata": {},
   "outputs": [
    {
     "data": {
      "text/html": [
       "<div>\n",
       "<style scoped>\n",
       "    .dataframe tbody tr th:only-of-type {\n",
       "        vertical-align: middle;\n",
       "    }\n",
       "\n",
       "    .dataframe tbody tr th {\n",
       "        vertical-align: top;\n",
       "    }\n",
       "\n",
       "    .dataframe thead th {\n",
       "        text-align: right;\n",
       "    }\n",
       "</style>\n",
       "<table border=\"1\" class=\"dataframe\">\n",
       "  <thead>\n",
       "    <tr style=\"text-align: right;\">\n",
       "      <th></th>\n",
       "      <th>name_role</th>\n",
       "      <th>facial_features</th>\n",
       "      <th>Name</th>\n",
       "      <th>Role</th>\n",
       "    </tr>\n",
       "  </thead>\n",
       "  <tbody>\n",
       "    <tr>\n",
       "      <th>0</th>\n",
       "      <td>Abhijeeth@Student</td>\n",
       "      <td>[-0.02814327, -0.0032706298, -0.039785348, -0....</td>\n",
       "      <td>Abhijeeth</td>\n",
       "      <td>Student</td>\n",
       "    </tr>\n",
       "    <tr>\n",
       "      <th>1</th>\n",
       "      <td>kohli@Student</td>\n",
       "      <td>[-1.1096125, 0.37213457, 0.12171401, -0.682275...</td>\n",
       "      <td>kohli</td>\n",
       "      <td>Student</td>\n",
       "    </tr>\n",
       "    <tr>\n",
       "      <th>2</th>\n",
       "      <td>abhigna@Student</td>\n",
       "      <td>[-2.0028722, -0.5104687, 0.71650857, -0.830376...</td>\n",
       "      <td>abhigna</td>\n",
       "      <td>Student</td>\n",
       "    </tr>\n",
       "    <tr>\n",
       "      <th>3</th>\n",
       "      <td>Lionel Messi@Student</td>\n",
       "      <td>[-2.7039468, -1.4024091, 0.39546552, 0.6817208...</td>\n",
       "      <td>Lionel Messi</td>\n",
       "      <td>Student</td>\n",
       "    </tr>\n",
       "    <tr>\n",
       "      <th>4</th>\n",
       "      <td>Morgan_Freeman@teacher</td>\n",
       "      <td>[0.4857939, -0.61931694, -0.4072946, 1.0686711...</td>\n",
       "      <td>Morgan_Freeman</td>\n",
       "      <td>teacher</td>\n",
       "    </tr>\n",
       "    <tr>\n",
       "      <th>5</th>\n",
       "      <td>Barack_Obama@teacher</td>\n",
       "      <td>[0.948603, -0.558349, 0.09484784, -1.2796344, ...</td>\n",
       "      <td>Barack_Obama</td>\n",
       "      <td>teacher</td>\n",
       "    </tr>\n",
       "    <tr>\n",
       "      <th>6</th>\n",
       "      <td>Nihitha Vadlamuri@Student</td>\n",
       "      <td>[0.40539905, -0.93340147, 0.6084892, -0.948747...</td>\n",
       "      <td>Nihitha Vadlamuri</td>\n",
       "      <td>Student</td>\n",
       "    </tr>\n",
       "    <tr>\n",
       "      <th>7</th>\n",
       "      <td>Scarlett Johansson@student</td>\n",
       "      <td>[0.1913062, -0.48871604, -1.6904205, 0.4424578...</td>\n",
       "      <td>Scarlett Johansson</td>\n",
       "      <td>student</td>\n",
       "    </tr>\n",
       "    <tr>\n",
       "      <th>8</th>\n",
       "      <td>ronaldo@Student_21WU0102047</td>\n",
       "      <td>[1.7229705, -2.7789521, 0.14269537, -1.7399669...</td>\n",
       "      <td>ronaldo</td>\n",
       "      <td>Student_21WU0102047</td>\n",
       "    </tr>\n",
       "    <tr>\n",
       "      <th>9</th>\n",
       "      <td>Chris_Evans@student</td>\n",
       "      <td>[0.72012275, -1.4683539, -0.77757514, -1.46026...</td>\n",
       "      <td>Chris_Evans</td>\n",
       "      <td>student</td>\n",
       "    </tr>\n",
       "    <tr>\n",
       "      <th>10</th>\n",
       "      <td>Angelina Jolie@student</td>\n",
       "      <td>[0.43222713, 1.074822, -0.12857957, -1.8332443...</td>\n",
       "      <td>Angelina Jolie</td>\n",
       "      <td>student</td>\n",
       "    </tr>\n",
       "    <tr>\n",
       "      <th>11</th>\n",
       "      <td>Abhigna Ragala@Student_21WU0102051</td>\n",
       "      <td>[-1.9036957, -0.010292505, 1.5056595, -0.68067...</td>\n",
       "      <td>Abhigna Ragala</td>\n",
       "      <td>Student_21WU0102051</td>\n",
       "    </tr>\n",
       "  </tbody>\n",
       "</table>\n",
       "</div>"
      ],
      "text/plain": [
       "                             name_role  \\\n",
       "0                    Abhijeeth@Student   \n",
       "1                        kohli@Student   \n",
       "2                      abhigna@Student   \n",
       "3                 Lionel Messi@Student   \n",
       "4               Morgan_Freeman@teacher   \n",
       "5                 Barack_Obama@teacher   \n",
       "6            Nihitha Vadlamuri@Student   \n",
       "7           Scarlett Johansson@student   \n",
       "8          ronaldo@Student_21WU0102047   \n",
       "9                  Chris_Evans@student   \n",
       "10              Angelina Jolie@student   \n",
       "11  Abhigna Ragala@Student_21WU0102051   \n",
       "\n",
       "                                      facial_features                Name  \\\n",
       "0   [-0.02814327, -0.0032706298, -0.039785348, -0....           Abhijeeth   \n",
       "1   [-1.1096125, 0.37213457, 0.12171401, -0.682275...               kohli   \n",
       "2   [-2.0028722, -0.5104687, 0.71650857, -0.830376...             abhigna   \n",
       "3   [-2.7039468, -1.4024091, 0.39546552, 0.6817208...        Lionel Messi   \n",
       "4   [0.4857939, -0.61931694, -0.4072946, 1.0686711...      Morgan_Freeman   \n",
       "5   [0.948603, -0.558349, 0.09484784, -1.2796344, ...        Barack_Obama   \n",
       "6   [0.40539905, -0.93340147, 0.6084892, -0.948747...   Nihitha Vadlamuri   \n",
       "7   [0.1913062, -0.48871604, -1.6904205, 0.4424578...  Scarlett Johansson   \n",
       "8   [1.7229705, -2.7789521, 0.14269537, -1.7399669...             ronaldo   \n",
       "9   [0.72012275, -1.4683539, -0.77757514, -1.46026...         Chris_Evans   \n",
       "10  [0.43222713, 1.074822, -0.12857957, -1.8332443...      Angelina Jolie   \n",
       "11  [-1.9036957, -0.010292505, 1.5056595, -0.68067...      Abhigna Ragala   \n",
       "\n",
       "                   Role  \n",
       "0               Student  \n",
       "1               Student  \n",
       "2               Student  \n",
       "3               Student  \n",
       "4               teacher  \n",
       "5               teacher  \n",
       "6               Student  \n",
       "7               student  \n",
       "8   Student_21WU0102047  \n",
       "9               student  \n",
       "10              student  \n",
       "11  Student_21WU0102051  "
      ]
     },
     "execution_count": 4,
     "metadata": {},
     "output_type": "execute_result"
    }
   ],
   "source": [
    "name = 'academy:register'\n",
    "retrive_dict= face_rec.r.hgetall(name)\n",
    "retrive_series = pd.Series(retrive_dict)\n",
    "retrive_series = retrive_series.apply(lambda x: np.frombuffer(x,dtype=np.float32))\n",
    "index = retrive_series.index\n",
    "index = list(map(lambda x: x.decode(), index))\n",
    "retrive_series.index = index\n",
    "retrive_df =  retrive_series.to_frame().reset_index()\n",
    "retrive_df.columns = ['name_role','facial_features']\n",
    "retrive_df[['Name','Role']] = retrive_df['name_role'].apply(lambda x: x.split('@')).apply(pd.Series)\n",
    "retrive_df"
   ]
  },
  {
   "cell_type": "code",
   "execution_count": null,
   "id": "d9a552ba",
   "metadata": {},
   "outputs": [],
   "source": []
  },
  {
   "cell_type": "markdown",
   "id": "5641843d",
   "metadata": {},
   "source": [
    "### Step-2: Get Real - Time Prediction"
   ]
  },
  {
   "cell_type": "code",
   "execution_count": 5,
   "id": "c7042031",
   "metadata": {
    "scrolled": true
   },
   "outputs": [
    {
     "data": {
      "text/plain": [
       "-1"
      ]
     },
     "execution_count": 5,
     "metadata": {},
     "output_type": "execute_result"
    }
   ],
   "source": [
    "cap = cv2.VideoCapture(0) # default , # 1 for external camera\n",
    "\n",
    "while True:\n",
    "    ret, frame = cap.read()\n",
    "    \n",
    "    if ret == False:\n",
    "        break\n",
    "        \n",
    "    pred_frame = face_rec.face_prediction(frame,retrive_df,'facial_features',['Name','Role'],thresh=0.5)\n",
    "    \n",
    "    #cv2.imshow('frame',frame)\n",
    "    cv2.imshow('prediciton',pred_frame)\n",
    "    \n",
    "    if cv2.waitKey(1) == 27: # if i press esc button this condition will get trigged\n",
    "        break\n",
    "        \n",
    "cv2.destroyAllWindows()\n",
    "cap.release()\n",
    "cv2.waitKey(1)"
   ]
  },
  {
   "cell_type": "markdown",
   "id": "bbe93ef2",
   "metadata": {},
   "source": [
    "### [END](https://www.udemy.com/user/freeai-space/)"
   ]
  }
 ],
 "metadata": {
  "kernelspec": {
   "display_name": "Python 3 (ipykernel)",
   "language": "python",
   "name": "python3"
  },
  "language_info": {
   "codemirror_mode": {
    "name": "ipython",
    "version": 3
   },
   "file_extension": ".py",
   "mimetype": "text/x-python",
   "name": "python",
   "nbconvert_exporter": "python",
   "pygments_lexer": "ipython3",
   "version": "3.11.5"
  }
 },
 "nbformat": 4,
 "nbformat_minor": 5
}
